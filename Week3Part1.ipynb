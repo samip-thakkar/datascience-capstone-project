{
 "cells": [
  {
   "cell_type": "markdown",
   "metadata": {},
   "source": [
    "<h2> IBM Applied Data Science Capstone Project Week 3: Part1</h2>\n",
    "Aim: Build a dataframe of the postal code of each neighborhood along with the borough name and neighborhood name in Toronto."
   ]
  },
  {
   "cell_type": "markdown",
   "metadata": {},
   "source": [
    "# Import the necessary libraries"
   ]
  },
  {
   "cell_type": "code",
   "execution_count": null,
   "metadata": {},
   "outputs": [],
   "source": [
    "\"\"\"Import libraries\"\"\"\n",
    "import pandas as pd\n",
    "from bs4 import BeautifulSoup\n",
    "import requests"
   ]
  },
  {
   "cell_type": "markdown",
   "metadata": {},
   "source": [
    "# Create url and send request with get option to scrape the text data"
   ]
  },
  {
   "cell_type": "code",
   "execution_count": null,
   "metadata": {},
   "outputs": [],
   "source": [
    "#Send the request with given url\n",
    "url = 'https://en.wikipedia.org/wiki/List_of_postal_codes_of_Canada:_M'\n",
    "result = requests.get(url).text\n",
    "result"
   ]
  },
  {
   "cell_type": "markdown",
   "metadata": {},
   "source": [
    "# Convert the text result into html using BeautifulSoup"
   ]
  },
  {
   "cell_type": "code",
   "execution_count": null,
   "metadata": {},
   "outputs": [],
   "source": [
    "#Parse data in html format using BeautifulSoup\n",
    "soup = BeautifulSoup(result, 'html.parser')\n",
    "soup"
   ]
  },
  {
   "cell_type": "markdown",
   "metadata": {},
   "source": [
    "# Find table rows and parse through each row to get Postal Code, Borough and Neighborhood and store in the list"
   ]
  },
  {
   "cell_type": "code",
   "execution_count": null,
   "metadata": {},
   "outputs": [],
   "source": [
    "#As there are three columns in data, create three lists to store postal codes, Borough and Neighborhood\n",
    "postalcode, borough, neighborhood = [], [], []"
   ]
  },
  {
   "cell_type": "code",
   "execution_count": null,
   "metadata": {},
   "outputs": [],
   "source": [
    "#Get the data using BeautifulSoup\n",
    "\n",
    "#Find all the rows\n",
    "rows = soup.find('table').find_all('tr')\n",
    "\n",
    "#For each row, find the data in the row\n",
    "for row in rows:\n",
    "    cell = row.find_all('td')\n",
    "    \n",
    "    if len(cell) > 0:\n",
    "        postalcode.append(cell[0].text)\n",
    "        borough.append(cell[1].text)\n",
    "        neighborhood.append(cell[2].text.rstrip('\\n'))"
   ]
  },
  {
   "cell_type": "markdown",
   "metadata": {},
   "source": [
    "# Create a DataFrame with three columns: PostalData, Borough and Neighborhood"
   ]
  },
  {
   "cell_type": "code",
   "execution_count": null,
   "metadata": {},
   "outputs": [],
   "source": [
    "\n",
    "#Create a new dataframe with three columns\n",
    "toronto_df = pd.DataFrame({'PostalCode': postalcode,\n",
    "                           'Borough' : borough,\n",
    "                           'Neighborhood': neighborhood})\n",
    "toronto_df.head()"
   ]
  },
  {
   "cell_type": "markdown",
   "metadata": {},
   "source": [
    "# Drop the rows with neighborhood as 'Not Assigned'"
   ]
  },
  {
   "cell_type": "code",
   "execution_count": null,
   "metadata": {},
   "outputs": [],
   "source": [
    "#Ignoring the rows with Neighborhood as Not assigned\n",
    "toronto_df = toronto_df[toronto_df['Neighborhood'] != 'Not assigned'].reset_index(drop = True)\n",
    "toronto_df.head()"
   ]
  },
  {
   "cell_type": "markdown",
   "metadata": {},
   "source": [
    "# Group the data with neighborhood in same Borough"
   ]
  },
  {
   "cell_type": "code",
   "execution_count": null,
   "metadata": {},
   "outputs": [],
   "source": [
    "#Group the neighborhood in same borough\n",
    "toronto_df_grouped = toronto_df.groupby(['PostalCode', 'Borough'], as_index = False).agg(lambda x: ','.join(x))\n",
    "toronto_df_grouped.head()"
   ]
  },
  {
   "cell_type": "markdown",
   "metadata": {},
   "source": [
    "# For not assigned neighborhood, make it same as corresponding Borough"
   ]
  },
  {
   "cell_type": "code",
   "execution_count": null,
   "metadata": {},
   "outputs": [],
   "source": [
    "#For a Not assigned neighborhood, making it same as borough\n",
    "for index, row in toronto_df_grouped.iterrows():\n",
    "    if row['Neighborhood'] == 'Not Assigned':\n",
    "        row['Neighborhood'] = row['Borough']\n",
    "toronto_df_grouped.head()"
   ]
  },
  {
   "cell_type": "markdown",
   "metadata": {},
   "source": [
    "# Print the shape of the resultant dataframe"
   ]
  },
  {
   "cell_type": "code",
   "execution_count": null,
   "metadata": {},
   "outputs": [],
   "source": [
    "#Print the shape of the dataframe\n",
    "toronto_df_grouped.shape"
   ]
  },
  {
   "cell_type": "code",
   "execution_count": null,
   "metadata": {},
   "outputs": [],
   "source": []
  },
  {
   "cell_type": "code",
   "execution_count": null,
   "metadata": {},
   "outputs": [],
   "source": []
  }
 ],
 "metadata": {
  "kernelspec": {
   "display_name": "Python 3",
   "language": "python",
   "name": "python3"
  },
  "language_info": {
   "codemirror_mode": {
    "name": "ipython",
    "version": 3
   },
   "file_extension": ".py",
   "mimetype": "text/x-python",
   "name": "python",
   "nbconvert_exporter": "python",
   "pygments_lexer": "ipython3",
   "version": "3.7.4"
  }
 },
 "nbformat": 4,
 "nbformat_minor": 2
}
